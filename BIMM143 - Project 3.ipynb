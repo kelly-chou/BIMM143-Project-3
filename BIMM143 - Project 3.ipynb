{
 "cells": [
  {
   "cell_type": "markdown",
   "metadata": {},
   "source": [
    "# Project 3"
   ]
  },
  {
   "cell_type": "markdown",
   "metadata": {},
   "source": [
    "### Scientific Question: Is it possible that birds have adapted to live at different altitudes due to differences in hypoxia tolerance genes, such as METTL8?"
   ]
  },
  {
   "cell_type": "markdown",
   "metadata": {},
   "source": [
    "METTL8 "
   ]
  },
  {
   "cell_type": "markdown",
   "metadata": {},
   "source": [
    "### Scientific Hypothesis: If METTL8's regulation of MEF2C affects muscle hypoxia resistance, there will be a significant difference between the similarity of METTL8 sequences between different species of birds."
   ]
  },
  {
   "cell_type": "markdown",
   "metadata": {},
   "source": [
    "For this analysis, we will be using the highest documented flight for each species.\n",
    "\n",
    "Mallard ducks can fly up to 21,000 feet.\n",
    "Helmeted guineafowls: 9800 feet\n",
    "Crane: 33,000 feet"
   ]
  },
  {
   "cell_type": "markdown",
   "metadata": {},
   "source": [
    "### Part 1: Load the Packages"
   ]
  },
  {
   "cell_type": "markdown",
   "metadata": {},
   "source": [
    "Package Definitions:\n",
    "Pandas:\n",
    "Numpy:\n",
    "Scipy:\n",
    "matplotlib:\n",
    "Seaborn: linear regression"
   ]
  },
  {
   "cell_type": "code",
   "execution_count": 6,
   "metadata": {},
   "outputs": [],
   "source": [
    "# Import all packages needed\n",
    "import pandas as pd\n",
    "import numpy as np\n",
    "import scipy as scip\n",
    "import matplotlib.pyplot as plt\n",
    "import Bio\n",
    "from Bio import pairwise2\n",
    "from Bio.pairwise2 import format_alignment\n",
    "from Bio.Seq import Seq\n",
    "from Bio import AlignIO\n",
    "from Bio import Align\n",
    "import seaborn as sns"
   ]
  },
  {
   "cell_type": "markdown",
   "metadata": {},
   "source": [
    "### Part 2: Load in the Data and perform Bioinformatics Analyses"
   ]
  },
  {
   "cell_type": "code",
   "execution_count": 46,
   "metadata": {
    "scrolled": true
   },
   "outputs": [
    {
     "name": "stdout",
     "output_type": "stream",
     "text": [
      "[2.0, 1.0, 0.0]\n"
     ]
    }
   ],
   "source": [
    "# Read in mRNA sequences of METTL8 gene\n",
    "#mallard_DNA_df = pd.read_csv(\"\")\n",
    "mallard_seq = Seq(\"ATTTC\")\n",
    "guinea_seq = Seq(\"ACT\")\n",
    "crane_seq = Seq(\"AGA\")\n",
    "\n",
    "# Get a list of the global alignments between the two sequences\n",
    "#alignment = AlignIO.read(open(), \"stockholm\")\n",
    "#align_array = np.array([list(rec) for rec in alignment, np.character])\n",
    "alignments = pairwise2.align.globalxx(mallard_seq, guinea_seq)\n",
    "\n",
    "# Create PairwiseAligner object\n",
    "#aligner = Align.PairwiseAligner()\n",
    "# Initialize match scores list\n",
    "match_scores = []\n",
    "# Calculate alignment score\n",
    "mal_gui_score = aligner.score(mallard_seq, guinea_seq)\n",
    "match_scores.append(mal_gui_score)\n",
    "\n",
    "match_scores.append(1.0)\n",
    "match_scores.append(0.0)\n",
    "\n",
    "np_match = np.array(match_scores)\n",
    "\n",
    "print(match_scores)"
   ]
  },
  {
   "cell_type": "markdown",
   "metadata": {},
   "source": [
    "### Part 3: Create a scatterplot showing the difference in flying altitudes vs match scores between the mRNA sequences of different species"
   ]
  },
  {
   "cell_type": "code",
   "execution_count": 49,
   "metadata": {
    "scrolled": true
   },
   "outputs": [
    {
     "name": "stdout",
     "output_type": "stream",
     "text": [
      "\n"
     ]
    },
    {
     "data": {
      "image/png": "[encoded data removed]",
      "text/plain": [
       "<Figure size 432x288 with 1 Axes>"
      ]
     },
     "metadata": {
      "needs_background": "light"
     },
     "output_type": "display_data"
    }
   ],
   "source": [
    "# Calculate differences in flying altitudes\n",
    "altitude_diff = []\n",
    "mal_gui_diff = 21000 - 9800\n",
    "altitude_diff.append(mal_gui_diff)\n",
    "\n",
    "altitude_diff.append(10)\n",
    "altitude_diff.append(15)\n",
    "\n",
    "\n",
    "np_altitude = np.array(altitude_diff)\n",
    "\n",
    "# Combine data into a numpy array\n",
    "#diff_dict = {}\n",
    "#for i in range(3) :\n",
    "    \n",
    "   # diff_dict[altitude_diff[i]] = match_scores[i]\n",
    "\n",
    "# Plot differences in flying altitudes against the match scores\n",
    "plt.scatter(altitude_diff, match_scores)\n",
    "# Plot linear regression\n",
    "b, m = np.polyfit(np_altitude, np_match, 1)\n",
    "#print(type(altitude_diff))\n",
    "#plt.plot(altitude_diff, m * altitude_diff + b)\n",
    "#sns.regplot()\n",
    "\n",
    "# Customize the plot\n",
    "plt.title(\"Match Scores vs Differences in Flying Altitudes\")\n",
    "plt.xlabel(\"Difference in Flying Altitude\")\n",
    "plt.ylabel(\"Match Score between Species\")\n",
    "# colors\n",
    "\n",
    "# Show the plot\n",
    "plt.show()"
   ]
  },
  {
   "cell_type": "code",
   "execution_count": null,
   "metadata": {},
   "outputs": [],
   "source": [
    "\n"
   ]
  },
  {
   "cell_type": "markdown",
   "metadata": {},
   "source": [
    "### Part 4: Analysis of the results"
   ]
  },
  {
   "cell_type": "markdown",
   "metadata": {},
   "source": [
    "expected vs program found\n",
    "not in line? why?\n",
    "\n",
    "Expected to see a positive correlation\n",
    "\n",
    "There also may be other factors that could be responsible for the differences in the DNA sequences. Thus, this is not an accurate"
   ]
  }
 ],
 "metadata": {
  "kernelspec": {
   "display_name": "Python 3",
   "language": "python",
   "name": "python3"
  },
  "language_info": {
   "codemirror_mode": {
    "name": "ipython",
    "version": 3
   },
   "file_extension": ".py",
   "mimetype": "text/x-python",
   "name": "python",
   "nbconvert_exporter": "python",
   "pygments_lexer": "ipython3",
   "version": "3.8.5"
  }
 },
 "nbformat": 4,
 "nbformat_minor": 4
}
